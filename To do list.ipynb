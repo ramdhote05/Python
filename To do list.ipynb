{
 "cells": [
  {
   "cell_type": "code",
   "execution_count": null,
   "id": "63c959d7-8f75-42a6-ac35-9d11e29b1605",
   "metadata": {},
   "outputs": [
    {
     "name": "stdout",
     "output_type": "stream",
     "text": [
      "\n",
      "1. Add Task\n",
      "2. View Tasks\n",
      "3. Edit Task\n",
      "4. Delete Task\n",
      "5. Exit\n"
     ]
    },
    {
     "name": "stdout",
     "output_type": "stream",
     "text": [
      "Choose an option:  1\n",
      "Enter task:  Jogging\n"
     ]
    },
    {
     "name": "stdout",
     "output_type": "stream",
     "text": [
      "Task added.\n",
      "\n",
      "1. Add Task\n",
      "2. View Tasks\n",
      "3. Edit Task\n",
      "4. Delete Task\n",
      "5. Exit\n"
     ]
    }
   ],
   "source": [
    "# Initialize empty task list\n",
    "tasks = []\n",
    "\n",
    "def display_menu():\n",
    "    print(\"\\n1. Add Task\")\n",
    "    print(\"2. View Tasks\")\n",
    "    print(\"3. Edit Task\")\n",
    "    print(\"4. Delete Task\")\n",
    "    print(\"5. Exit\")\n",
    "\n",
    "# Main loop to run the app\n",
    "while True:\n",
    "    display_menu()\n",
    "    choice = input(\"Choose an option: \")\n",
    "    if choice == '1':\n",
    "        task = input(\"Enter task: \")\n",
    "        tasks.append(task)\n",
    "        print(\"Task added.\")\n",
    "    elif choice == '2':\n",
    "        for i, task in enumerate(tasks, 1):\n",
    "            print(f\"{i}. {task}\")\n",
    "    elif choice == '3':\n",
    "        # Editing logic here\n",
    "        pass\n",
    "    elif choice == '4':\n",
    "        # Deletion logic here\n",
    "        pass\n",
    "    elif choice == '5':\n",
    "        print(\"Goodbye!\")\n",
    "        break\n",
    "    else:\n",
    "        print(\"Invalid input, try again.\")\n"
   ]
  },
  {
   "cell_type": "code",
   "execution_count": null,
   "id": "950327fe-7bea-47e6-bee9-57d4c1fe265c",
   "metadata": {},
   "outputs": [],
   "source": [
    "1\n"
   ]
  }
 ],
 "metadata": {
  "kernelspec": {
   "display_name": "Python [conda env:base] *",
   "language": "python",
   "name": "conda-base-py"
  },
  "language_info": {
   "codemirror_mode": {
    "name": "ipython",
    "version": 3
   },
   "file_extension": ".py",
   "mimetype": "text/x-python",
   "name": "python",
   "nbconvert_exporter": "python",
   "pygments_lexer": "ipython3",
   "version": "3.13.5"
  }
 },
 "nbformat": 4,
 "nbformat_minor": 5
}
