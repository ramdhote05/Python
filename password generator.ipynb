{
 "cells": [
  {
   "cell_type": "code",
   "execution_count": 9,
   "id": "a20d432b-c121-4904-b0c9-278fce64388b",
   "metadata": {},
   "outputs": [
    {
     "name": "stdin",
     "output_type": "stream",
     "text": [
      "Enter password length:  5\n"
     ]
    },
    {
     "name": "stdout",
     "output_type": "stream",
     "text": [
      "Generated password: SYz+B\n"
     ]
    }
   ],
   "source": [
    "import string\n",
    "import random\n",
    "\n",
    "# Prompt user for password length\n",
    "length = int(input(\"Enter password length: \"))\n",
    "\n",
    "# Define character sets\n",
    "characters = string.ascii_letters + string.digits + string.punctuation\n",
    "\n",
    "# Generate password\n",
    "password = ''.join(random.choice(characters) for _ in range(length))\n",
    "\n",
    "print(\"Generated password:\", password)\n"
   ]
  },
  {
   "cell_type": "code",
   "execution_count": null,
   "id": "e0e6d357-e935-411e-a4d3-db0edb7ea19a",
   "metadata": {},
   "outputs": [],
   "source": []
  }
 ],
 "metadata": {
  "kernelspec": {
   "display_name": "Python [conda env:base] *",
   "language": "python",
   "name": "conda-base-py"
  },
  "language_info": {
   "codemirror_mode": {
    "name": "ipython",
    "version": 3
   },
   "file_extension": ".py",
   "mimetype": "text/x-python",
   "name": "python",
   "nbconvert_exporter": "python",
   "pygments_lexer": "ipython3",
   "version": "3.13.5"
  }
 },
 "nbformat": 4,
 "nbformat_minor": 5
}
