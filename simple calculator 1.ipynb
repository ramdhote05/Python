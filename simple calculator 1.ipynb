{
 "cells": [
  {
   "cell_type": "code",
   "execution_count": 1,
   "id": "b963419e-3e52-4244-a191-78a4eab95d78",
   "metadata": {},
   "outputs": [
    {
     "name": "stdin",
     "output_type": "stream",
     "text": [
      "Enter the first number:  123\n",
      "Enter the second number:  456\n"
     ]
    },
    {
     "name": "stdout",
     "output_type": "stream",
     "text": [
      "what kind of operation do you want to perform. Press + for addition\n",
      "Press - for subtraction\n",
      "Press / for division\n",
      "press * for multiplication\n"
     ]
    },
    {
     "name": "stdin",
     "output_type": "stream",
     "text": [
      "Enter Operation:  +\n"
     ]
    },
    {
     "name": "stdout",
     "output_type": "stream",
     "text": [
      "The result is: 579\n"
     ]
    }
   ],
   "source": [
    "try: \n",
    "    a = int(input(\"Enter the first number: \"))\n",
    "\n",
    "    b = int(input(\"Enter the second number: \"))\n",
    "\n",
    "    print(\"what kind of operation do you want to perform. Press + for addition\\nPress - for subtraction\\nPress / for division\\npress * for multiplication\")\n",
    "\n",
    "    o = input(\"Enter Operation: \")\n",
    "    match o:\n",
    "        case \"+\":\n",
    "            print(f\"The result is: {a + b}\")\n",
    "        case \"-\":\n",
    "            print(f\"The result is: {a - b}\")\n",
    "        case \"*\":\n",
    "            print(f\"The result is: {a * b}\")\n",
    "        case \"/\":\n",
    "            print(f\"The result is: {a / b}\")\n",
    "        case default: \n",
    "            print(f\"There was an error\")\n",
    "\n",
    "except Exception as e:\n",
    "    print(\"Enter a valid value of a and b\")\n"
   ]
  },
  {
   "cell_type": "code",
   "execution_count": null,
   "id": "59eae591-3929-4870-a356-7ee685ea5e50",
   "metadata": {},
   "outputs": [],
   "source": []
  }
 ],
 "metadata": {
  "kernelspec": {
   "display_name": "Python [conda env:base] *",
   "language": "python",
   "name": "conda-base-py"
  },
  "language_info": {
   "codemirror_mode": {
    "name": "ipython",
    "version": 3
   },
   "file_extension": ".py",
   "mimetype": "text/x-python",
   "name": "python",
   "nbconvert_exporter": "python",
   "pygments_lexer": "ipython3",
   "version": "3.13.5"
  }
 },
 "nbformat": 4,
 "nbformat_minor": 5
}
